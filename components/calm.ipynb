{
  "nbformat": 4,
  "nbformat_minor": 0,
  "metadata": {
    "colab": {
      "provenance": [],
      "gpuType": "T4",
      "authorship_tag": "ABX9TyM+/XxOd72Qy964/CjzXowq",
      "include_colab_link": true
    },
    "kernelspec": {
      "name": "python3",
      "display_name": "Python 3"
    },
    "language_info": {
      "name": "python"
    },
    "accelerator": "GPU"
  },
  "cells": [
    {
      "cell_type": "markdown",
      "metadata": {
        "id": "view-in-github",
        "colab_type": "text"
      },
      "source": [
        "<a href=\"https://colab.research.google.com/github/ketyia1111/202311_hackathon/blob/master/calm.ipynb\" target=\"_parent\"><img src=\"https://colab.research.google.com/assets/colab-badge.svg\" alt=\"Open In Colab\"/></a>"
      ]
    },
    {
      "cell_type": "code",
      "execution_count": null,
      "metadata": {
        "colab": {
          "base_uri": "https://localhost:8080/"
        },
        "id": "4m5FTrz70eo3",
        "outputId": "f83616f5-07bc-4e76-a5c6-72ea8600d051"
      },
      "outputs": [
        {
          "output_type": "stream",
          "name": "stdout",
          "text": [
            "Git LFS initialized.\n",
            "Cloning into 'calm2-7b-chat'...\n",
            "remote: Enumerating objects: 21, done.\u001b[K\n",
            "remote: Counting objects: 100% (18/18), done.\u001b[K\n",
            "remote: Compressing objects: 100% (18/18), done.\u001b[K\n",
            "remote: Total 21 (delta 4), reused 0 (delta 0), pack-reused 3\u001b[K\n",
            "Unpacking objects: 100% (21/21), 935.09 KiB | 2.46 MiB/s, done.\n"
          ]
        }
      ],
      "source": [
        "!git lfs install\n",
        "!git clone https://huggingface.co/cyberagent/calm2-7b-chat"
      ]
    },
    {
      "cell_type": "code",
      "source": [
        "# パッケージのインストール\n",
        "!pip install transformers sentencepiece"
      ],
      "metadata": {
        "id": "Yi6qQcjp1RbL"
      },
      "execution_count": null,
      "outputs": []
    },
    {
      "cell_type": "code",
      "source": [
        "import transformers\n",
        "from transformers import AutoModelForCausalLM, AutoTokenizer, TextStreamer\n",
        "\n",
        "assert transformers.__version__ >= \"4.34.1\"\n",
        "\n",
        "model = AutoModelForCausalLM.from_pretrained(\"/content/calm2-7b-chat\", device_map=\"auto\", torch_dtype=\"auto\")\n",
        "tokenizer = AutoTokenizer.from_pretrained(\"/content/calm2-7b-chat\")\n",
        "streamer = TextStreamer(tokenizer, skip_prompt=True, skip_special_tokens=True)\n",
        "\n",
        "prompt = \"\"\"USER: 以下を要約して\n",
        "講義メモ\n",
        "\n",
        "講義のタイトル: 現代の政治学\n",
        "日付: 2023年10月15日\n",
        "教授: Smith 教授\n",
        "\n",
        "政治学の導入\n",
        "\n",
        "政治学の複雑さ\n",
        "政治的な出来事への関心\n",
        "ポリティクスとパワー\n",
        "\n",
        "権力の種類\n",
        "政府と国際政治の比較\n",
        "なぜ政治学を学ぶのか？\n",
        "\n",
        "政策決定への影響\n",
        "社会的な問題と政治的な選択\n",
        "政治学のアプローチ\n",
        "\n",
        "定性的な研究と定量的な研究\n",
        "ケーススタディと統計データの使用\n",
        "教授のコメント\n",
        "\n",
        "政治学は複雑で多面的な分野で、異なるアプローチが重要です。\n",
        "質問と疑問\n",
        "\n",
        "政治学の研究方法についてもっと学びたい。\n",
        "政治の概念と政策決定の関係が深まるかもしれない。\n",
        "課題と宿題\n",
        "\n",
        "次回の講義までに、政治学に関する本を読んで、感想をまとめる。\n",
        "その他の注意事項\n",
        "\n",
        "論文提出締切が迫っているので、時間を確保しましょう。\n",
        "次回の予定\n",
        "\n",
        "10月22日の講義では、政府の機能と政策決定プロセスに焦点を当てます。\n",
        "ASSISTANT: \"\"\"\n",
        "\n",
        "token_ids = tokenizer.encode(prompt, return_tensors=\"pt\")\n",
        "output_ids = model.generate(\n",
        "    input_ids=token_ids.to(model.device),\n",
        "    max_new_tokens=300,\n",
        "    do_sample=True,\n",
        "    temperature=0.8,\n",
        "    streamer=streamer,\n",
        ")\n"
      ],
      "metadata": {
        "id": "IBBpIf3F1STP"
      },
      "execution_count": null,
      "outputs": []
    }
  ]
}